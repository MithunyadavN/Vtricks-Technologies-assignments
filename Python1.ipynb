{
 "cells": [
  {
   "cell_type": "code",
   "execution_count": 29,
   "metadata": {},
   "outputs": [
    {
     "name": "stdout",
     "output_type": "stream",
     "text": [
      "Hello World\n"
     ]
    }
   ],
   "source": [
    "print(\"Hello World\")"
   ]
  },
  {
   "cell_type": "code",
   "execution_count": null,
   "metadata": {},
   "outputs": [],
   "source": []
  },
  {
   "cell_type": "code",
   "execution_count": 30,
   "metadata": {},
   "outputs": [
    {
     "name": "stdout",
     "output_type": "stream",
     "text": [
      "1\n",
      "apple\n"
     ]
    }
   ],
   "source": [
    "# variable , data , datatype\n",
    "\n",
    "a=1\n",
    "b='apple'\n",
    "print(a)\n",
    "print(b)"
   ]
  },
  {
   "cell_type": "code",
   "execution_count": 31,
   "metadata": {},
   "outputs": [
    {
     "name": "stdout",
     "output_type": "stream",
     "text": [
      "<class 'int'>\n",
      "<class 'str'>\n"
     ]
    }
   ],
   "source": [
    "# type of variable\n",
    "print(type(a))\n",
    "print(type(b))"
   ]
  },
  {
   "cell_type": "code",
   "execution_count": 32,
   "metadata": {},
   "outputs": [
    {
     "name": "stdout",
     "output_type": "stream",
     "text": [
      "<class 'tuple'>\n"
     ]
    }
   ],
   "source": [
    "t=(1,2,3)\n",
    "print(type(t))"
   ]
  },
  {
   "cell_type": "code",
   "execution_count": null,
   "metadata": {},
   "outputs": [],
   "source": []
  },
  {
   "cell_type": "code",
   "execution_count": 33,
   "metadata": {},
   "outputs": [
    {
     "name": "stdout",
     "output_type": "stream",
     "text": [
      "value of a is  2\n",
      "address of a is  140733038633392\n"
     ]
    }
   ],
   "source": [
    "# Python is dependent on Data Structure not data type\n",
    "\n",
    "# two types of data in python\n",
    "\n",
    "# mutable \n",
    "# immutable\n",
    "\n",
    "# mutabe there are 2 list and dictionary\n",
    "\n",
    "# immutable there are 3 int , string , tuple\n",
    "\n",
    "\n",
    "# what is immutable data ?\n",
    "\n",
    "a=2\n",
    "print(\"value of a is \",a)\n",
    "print(\"address of a is \",id(a))"
   ]
  },
  {
   "cell_type": "code",
   "execution_count": 34,
   "metadata": {},
   "outputs": [
    {
     "name": "stdout",
     "output_type": "stream",
     "text": [
      " value of a is  5\n",
      " address of a is  140733038633488\n",
      " we can observe as the value changes the address also changes that is - we cannot change the value in immutable data\n"
     ]
    }
   ],
   "source": [
    "# lets change the value of a \n",
    "\n",
    "a=5\n",
    "print(\" value of a is \",a)\n",
    "print(\" address of a is \",id(a))\n",
    "print(\" we can observe as the value changes the address also changes that is - we cannot change the value in immutable data\")"
   ]
  },
  {
   "cell_type": "code",
   "execution_count": 35,
   "metadata": {},
   "outputs": [
    {
     "name": "stdout",
     "output_type": "stream",
     "text": [
      " value of s is  apple\n",
      " address of s is  1878400578864\n"
     ]
    }
   ],
   "source": [
    "# which are immutable data ?\n",
    "# string , int , tuple \n",
    "\n",
    "s=\"apple\"\n",
    "print(\" value of s is \",s)\n",
    "print(\" address of s is \",id(s))"
   ]
  },
  {
   "cell_type": "code",
   "execution_count": 36,
   "metadata": {},
   "outputs": [
    {
     "name": "stdout",
     "output_type": "stream",
     "text": [
      " value of s is  mango\n",
      " address of s is  1878400577648\n",
      " we can observe as the value changes the address also changes that is - we cannot change the value in immutable data\n"
     ]
    }
   ],
   "source": [
    "s=\"mango\"\n",
    "print(\" value of s is \",s)\n",
    "print(\" address of s is \",id(s))\n",
    "print(\" we can observe as the value changes the address also changes that is - we cannot change the value in immutable data\")"
   ]
  },
  {
   "cell_type": "code",
   "execution_count": 10,
   "metadata": {},
   "outputs": [],
   "source": [
    "# what is mutable data ?\n",
    "# list and dictionary\n",
    "\n"
   ]
  },
  {
   "cell_type": "code",
   "execution_count": 37,
   "metadata": {},
   "outputs": [
    {
     "name": "stdout",
     "output_type": "stream",
     "text": [
      "[1, 2, 3, 'apple']\n",
      "<class 'list'>\n",
      "1878400611464\n"
     ]
    }
   ],
   "source": [
    "# what is list?\n",
    "\n",
    "# a data strcuturue which consits series of elements enclosed in [] brackets - it is heterogenous\n",
    "\n",
    "l1=[1,2,3,'apple']\n",
    "print(l1)\n",
    "print(type(l1))\n",
    "print(id(l1))"
   ]
  },
  {
   "cell_type": "code",
   "execution_count": 38,
   "metadata": {},
   "outputs": [
    {
     "name": "stdout",
     "output_type": "stream",
     "text": [
      "[1, 2, 3, 'apple', 6]\n",
      "<class 'list'>\n",
      "1878400611464\n",
      " you can observe the address of previous list and present list is same so it is mutable data strcuture\n"
     ]
    }
   ],
   "source": [
    "l1.append(6)\n",
    "print(l1)\n",
    "print(type(l1))\n",
    "print(id(l1))\n",
    "print(\" you can observe the address of previous list and present list is same so it is mutable data strcuture\")"
   ]
  },
  {
   "cell_type": "code",
   "execution_count": 15,
   "metadata": {},
   "outputs": [
    {
     "data": {
      "text/plain": [
       "['__add__',\n",
       " '__class__',\n",
       " '__contains__',\n",
       " '__delattr__',\n",
       " '__delitem__',\n",
       " '__dir__',\n",
       " '__doc__',\n",
       " '__eq__',\n",
       " '__format__',\n",
       " '__ge__',\n",
       " '__getattribute__',\n",
       " '__getitem__',\n",
       " '__gt__',\n",
       " '__hash__',\n",
       " '__iadd__',\n",
       " '__imul__',\n",
       " '__init__',\n",
       " '__init_subclass__',\n",
       " '__iter__',\n",
       " '__le__',\n",
       " '__len__',\n",
       " '__lt__',\n",
       " '__mul__',\n",
       " '__ne__',\n",
       " '__new__',\n",
       " '__reduce__',\n",
       " '__reduce_ex__',\n",
       " '__repr__',\n",
       " '__reversed__',\n",
       " '__rmul__',\n",
       " '__setattr__',\n",
       " '__setitem__',\n",
       " '__sizeof__',\n",
       " '__str__',\n",
       " '__subclasshook__',\n",
       " 'append',\n",
       " 'clear',\n",
       " 'copy',\n",
       " 'count',\n",
       " 'extend',\n",
       " 'index',\n",
       " 'insert',\n",
       " 'pop',\n",
       " 'remove',\n",
       " 'reverse',\n",
       " 'sort']"
      ]
     },
     "execution_count": 15,
     "metadata": {},
     "output_type": "execute_result"
    }
   ],
   "source": [
    "# what are different functions present inside list\n",
    "\n",
    "dir([])"
   ]
  },
  {
   "cell_type": "code",
   "execution_count": 16,
   "metadata": {},
   "outputs": [
    {
     "name": "stdout",
     "output_type": "stream",
     "text": [
      "Help on built-in function insert:\n",
      "\n",
      "insert(index, object, /) method of builtins.list instance\n",
      "    Insert object before index.\n",
      "\n"
     ]
    }
   ],
   "source": [
    "# what insert function will do in list\n",
    "\n",
    "help([].insert)"
   ]
  },
  {
   "cell_type": "code",
   "execution_count": null,
   "metadata": {},
   "outputs": [],
   "source": [
    "# assignment will be given to get a knowledge on all lis functions"
   ]
  },
  {
   "cell_type": "code",
   "execution_count": 39,
   "metadata": {},
   "outputs": [
    {
     "name": "stdout",
     "output_type": "stream",
     "text": [
      "{'name': ['Ram', 'Shyam'], 'age': [23, 24]}\n",
      " you must observe that multiple elements are combined together using list\n"
     ]
    }
   ],
   "source": [
    "# dictionary \n",
    "\n",
    "# it is a mutable data structue which is key value pair\n",
    "\n",
    "dict1={'name':['Ram','Shyam'],'age':[23,24]}\n",
    "print(dict1)\n",
    "print(\" you must observe that multiple elements are combined together using list\")"
   ]
  },
  {
   "cell_type": "code",
   "execution_count": 19,
   "metadata": {},
   "outputs": [
    {
     "data": {
      "text/plain": [
       "['__class__',\n",
       " '__contains__',\n",
       " '__delattr__',\n",
       " '__delitem__',\n",
       " '__dir__',\n",
       " '__doc__',\n",
       " '__eq__',\n",
       " '__format__',\n",
       " '__ge__',\n",
       " '__getattribute__',\n",
       " '__getitem__',\n",
       " '__gt__',\n",
       " '__hash__',\n",
       " '__init__',\n",
       " '__init_subclass__',\n",
       " '__iter__',\n",
       " '__le__',\n",
       " '__len__',\n",
       " '__lt__',\n",
       " '__ne__',\n",
       " '__new__',\n",
       " '__reduce__',\n",
       " '__reduce_ex__',\n",
       " '__repr__',\n",
       " '__setattr__',\n",
       " '__setitem__',\n",
       " '__sizeof__',\n",
       " '__str__',\n",
       " '__subclasshook__',\n",
       " 'clear',\n",
       " 'copy',\n",
       " 'fromkeys',\n",
       " 'get',\n",
       " 'items',\n",
       " 'keys',\n",
       " 'pop',\n",
       " 'popitem',\n",
       " 'setdefault',\n",
       " 'update',\n",
       " 'values']"
      ]
     },
     "execution_count": 19,
     "metadata": {},
     "output_type": "execute_result"
    }
   ],
   "source": [
    "# what are functions present inside list\n",
    "\n",
    "dir({})"
   ]
  },
  {
   "cell_type": "code",
   "execution_count": 40,
   "metadata": {},
   "outputs": [
    {
     "name": "stdout",
     "output_type": "stream",
     "text": [
      "dict_keys(['name', 'age'])\n",
      "dict_values([['Ram', 'Shyam'], [23, 24]])\n",
      " assignment will be given on all functions of dictionary\n"
     ]
    }
   ],
   "source": [
    "print(dict1.keys())\n",
    "print(dict1.values())\n",
    "print(\" assignment will be given on all functions of dictionary\")"
   ]
  },
  {
   "cell_type": "code",
   "execution_count": 27,
   "metadata": {},
   "outputs": [
    {
     "name": "stdout",
     "output_type": "stream",
     "text": [
      " so we learnt how to work with  with anaconda \n",
      " jupyter notebook \n",
      " creating folder \n",
      " creating file \n",
      " print functions \n",
      " variables , data and data type\n",
      " data strcutures\n"
     ]
    }
   ],
   "source": [
    "print(\" so we learnt how to work with  with anaconda \\n jupyter notebook \\n creating folder \\n creating file \\n print functions \\n variables , data and data type\\n data strcutures\")"
   ]
  }
 ],
 "metadata": {
  "kernelspec": {
   "display_name": "Python 3",
   "language": "python",
   "name": "python3"
  },
  "language_info": {
   "codemirror_mode": {
    "name": "ipython",
    "version": 3
   },
   "file_extension": ".py",
   "mimetype": "text/x-python",
   "name": "python",
   "nbconvert_exporter": "python",
   "pygments_lexer": "ipython3",
   "version": "3.8.5"
  }
 },
 "nbformat": 4,
 "nbformat_minor": 4
}
